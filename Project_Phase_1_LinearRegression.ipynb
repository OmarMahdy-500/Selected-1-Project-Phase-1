{
  "nbformat": 4,
  "nbformat_minor": 0,
  "metadata": {
    "colab": {
      "provenance": []
    },
    "kernelspec": {
      "name": "python3",
      "display_name": "Python 3"
    },
    "language_info": {
      "name": "python"
    }
  },
  "cells": [
    {
      "cell_type": "code",
      "source": [
        "import pandas as pd\n",
        "import numpy as np\n",
        "import matplotlib.pyplot as plt\n",
        "# Load the dataset\n",
        "file_path = \"data.csv\"\n",
        "df = pd.read_csv(file_path)\n",
        "\n",
        "# Display basic information about the dataset\n",
        "df_info = df.info()\n",
        "df_head = df.head()\n",
        "\n",
        "# Check for missing values\n",
        "missing_values = df.isnull().sum()\n",
        "\n",
        "# Display basic statistics\n",
        "df_describe = df.describe()\n",
        "\n",
        "df_info, df_head, missing_values, df_describe\n"
      ],
      "metadata": {
        "colab": {
          "base_uri": "https://localhost:8080/"
        },
        "id": "k5KTuD_C9syN",
        "outputId": "804dcc7f-ae6d-43b2-ecdf-bd4a66115e0e"
      },
      "execution_count": 47,
      "outputs": [
        {
          "output_type": "stream",
          "name": "stdout",
          "text": [
            "<class 'pandas.core.frame.DataFrame'>\n",
            "RangeIndex: 2016 entries, 0 to 2015\n",
            "Data columns (total 8 columns):\n",
            " #   Column          Non-Null Count  Dtype  \n",
            "---  ------          --------------  -----  \n",
            " 0   beds            2016 non-null   int64  \n",
            " 1   baths           2016 non-null   float64\n",
            " 2   size            2016 non-null   float64\n",
            " 3   size_units      2016 non-null   object \n",
            " 4   lot_size        1669 non-null   float64\n",
            " 5   lot_size_units  1669 non-null   object \n",
            " 6   zip_code        2016 non-null   int64  \n",
            " 7   price           2016 non-null   float64\n",
            "dtypes: float64(4), int64(2), object(2)\n",
            "memory usage: 126.1+ KB\n"
          ]
        },
        {
          "output_type": "execute_result",
          "data": {
            "text/plain": [
              "(None,\n",
              "    beds  baths    size size_units  lot_size lot_size_units  zip_code  \\\n",
              " 0     3    2.5  2590.0       sqft   6000.00           sqft     98144   \n",
              " 1     4    2.0  2240.0       sqft      0.31           acre     98106   \n",
              " 2     4    3.0  2040.0       sqft   3783.00           sqft     98107   \n",
              " 3     4    3.0  3800.0       sqft   5175.00           sqft     98199   \n",
              " 4     2    2.0  1042.0       sqft       NaN            NaN     98102   \n",
              " \n",
              "        price  \n",
              " 0   795000.0  \n",
              " 1   915000.0  \n",
              " 2   950000.0  \n",
              " 3  1950000.0  \n",
              " 4   950000.0  ,\n",
              " beds                0\n",
              " baths               0\n",
              " size                0\n",
              " size_units          0\n",
              " lot_size          347\n",
              " lot_size_units    347\n",
              " zip_code            0\n",
              " price               0\n",
              " dtype: int64,\n",
              "               beds        baths          size     lot_size      zip_code  \\\n",
              " count  2016.000000  2016.000000   2016.000000  1669.000000   2016.000000   \n",
              " mean      2.857639     2.159970   1735.740575  3871.059694  98123.638889   \n",
              " std       1.255092     1.002023    920.132591  2719.402066     22.650819   \n",
              " min       1.000000     0.500000    250.000000     0.230000  98101.000000   \n",
              " 25%       2.000000     1.500000   1068.750000  1252.000000  98108.000000   \n",
              " 50%       3.000000     2.000000   1560.000000  4000.000000  98117.000000   \n",
              " 75%       4.000000     2.500000   2222.500000  6000.000000  98126.000000   \n",
              " max      15.000000     9.000000  11010.000000  9998.000000  98199.000000   \n",
              " \n",
              "               price  \n",
              " count  2.016000e+03  \n",
              " mean   9.636252e+05  \n",
              " std    9.440954e+05  \n",
              " min    1.590000e+05  \n",
              " 25%    6.017500e+05  \n",
              " 50%    8.000000e+05  \n",
              " 75%    1.105250e+06  \n",
              " max    2.500000e+07  )"
            ]
          },
          "metadata": {},
          "execution_count": 47
        }
      ]
    },
    {
      "cell_type": "code",
      "source": [
        "df_cleaned = df.dropna()\n",
        "\n",
        "# Verify that missing values are removed\n",
        "missing_values_after = df_cleaned.isnull().sum()"
      ],
      "metadata": {
        "id": "s8vMUjll-A1_"
      },
      "execution_count": 48,
      "outputs": []
    },
    {
      "cell_type": "code",
      "source": [
        "# Define conversion factors\n",
        "unit_conversion = {\n",
        "    'sqft': 1,  # Square feet as base unit\n",
        "    'acre': 43560  # 1 acre = 43,560 sqft\n",
        "}\n",
        "\n",
        "# Apply conversion to 'size' based on 'size_units'\n",
        "df_cleaned['size'] = df_cleaned.apply(lambda row: row['size'] * unit_conversion.get(row['size_units'], 1), axis=1)\n",
        "\n",
        "# Apply conversion to 'lot_size' based on 'lot_size_units'\n",
        "df_cleaned['lot_size'] = df_cleaned.apply(lambda row: row['lot_size'] * unit_conversion.get(row['lot_size_units'], 1), axis=1)\n",
        "\n",
        "# Drop the original unit columns as they are no longer needed\n",
        "df_cleaned = df_cleaned.drop(columns=['size_units', 'lot_size_units'])\n",
        "\n"
      ],
      "metadata": {
        "colab": {
          "base_uri": "https://localhost:8080/"
        },
        "id": "ToZ6povI-kvk",
        "outputId": "2ffddecd-06d9-4aa4-966d-c93436a24985"
      },
      "execution_count": 49,
      "outputs": [
        {
          "output_type": "stream",
          "name": "stderr",
          "text": [
            "<ipython-input-49-29e236d4ef18>:8: SettingWithCopyWarning: \n",
            "A value is trying to be set on a copy of a slice from a DataFrame.\n",
            "Try using .loc[row_indexer,col_indexer] = value instead\n",
            "\n",
            "See the caveats in the documentation: https://pandas.pydata.org/pandas-docs/stable/user_guide/indexing.html#returning-a-view-versus-a-copy\n",
            "  df_cleaned['size'] = df_cleaned.apply(lambda row: row['size'] * unit_conversion.get(row['size_units'], 1), axis=1)\n",
            "<ipython-input-49-29e236d4ef18>:11: SettingWithCopyWarning: \n",
            "A value is trying to be set on a copy of a slice from a DataFrame.\n",
            "Try using .loc[row_indexer,col_indexer] = value instead\n",
            "\n",
            "See the caveats in the documentation: https://pandas.pydata.org/pandas-docs/stable/user_guide/indexing.html#returning-a-view-versus-a-copy\n",
            "  df_cleaned['lot_size'] = df_cleaned.apply(lambda row: row['lot_size'] * unit_conversion.get(row['lot_size_units'], 1), axis=1)\n"
          ]
        }
      ]
    },
    {
      "cell_type": "code",
      "source": [
        "df_cleaned"
      ],
      "metadata": {
        "colab": {
          "base_uri": "https://localhost:8080/",
          "height": 423
        },
        "id": "PUKAlUGQ-pcH",
        "outputId": "6905080c-2b51-468e-d3bc-94b28804c1d5"
      },
      "execution_count": 50,
      "outputs": [
        {
          "output_type": "execute_result",
          "data": {
            "text/plain": [
              "      beds  baths    size  lot_size  zip_code      price\n",
              "0        3    2.5  2590.0    6000.0     98144   795000.0\n",
              "1        4    2.0  2240.0   13503.6     98106   915000.0\n",
              "2        4    3.0  2040.0    3783.0     98107   950000.0\n",
              "3        4    3.0  3800.0    5175.0     98199  1950000.0\n",
              "5        2    2.0  1190.0   43560.0     98107   740000.0\n",
              "...    ...    ...     ...       ...       ...        ...\n",
              "2009     3    3.5  1680.0    1486.0     98126   675000.0\n",
              "2010     2    2.0  1400.0   14810.4     98199   699950.0\n",
              "2011     3    2.0  1370.0   21780.0     98112   910000.0\n",
              "2013     4    2.0  2140.0    6250.0     98199  1150000.0\n",
              "2015     3    2.0  1710.0    4267.0     98133   659000.0\n",
              "\n",
              "[1669 rows x 6 columns]"
            ],
            "text/html": [
              "\n",
              "  <div id=\"df-427ac128-b637-4845-9c60-5569622b899a\" class=\"colab-df-container\">\n",
              "    <div>\n",
              "<style scoped>\n",
              "    .dataframe tbody tr th:only-of-type {\n",
              "        vertical-align: middle;\n",
              "    }\n",
              "\n",
              "    .dataframe tbody tr th {\n",
              "        vertical-align: top;\n",
              "    }\n",
              "\n",
              "    .dataframe thead th {\n",
              "        text-align: right;\n",
              "    }\n",
              "</style>\n",
              "<table border=\"1\" class=\"dataframe\">\n",
              "  <thead>\n",
              "    <tr style=\"text-align: right;\">\n",
              "      <th></th>\n",
              "      <th>beds</th>\n",
              "      <th>baths</th>\n",
              "      <th>size</th>\n",
              "      <th>lot_size</th>\n",
              "      <th>zip_code</th>\n",
              "      <th>price</th>\n",
              "    </tr>\n",
              "  </thead>\n",
              "  <tbody>\n",
              "    <tr>\n",
              "      <th>0</th>\n",
              "      <td>3</td>\n",
              "      <td>2.5</td>\n",
              "      <td>2590.0</td>\n",
              "      <td>6000.0</td>\n",
              "      <td>98144</td>\n",
              "      <td>795000.0</td>\n",
              "    </tr>\n",
              "    <tr>\n",
              "      <th>1</th>\n",
              "      <td>4</td>\n",
              "      <td>2.0</td>\n",
              "      <td>2240.0</td>\n",
              "      <td>13503.6</td>\n",
              "      <td>98106</td>\n",
              "      <td>915000.0</td>\n",
              "    </tr>\n",
              "    <tr>\n",
              "      <th>2</th>\n",
              "      <td>4</td>\n",
              "      <td>3.0</td>\n",
              "      <td>2040.0</td>\n",
              "      <td>3783.0</td>\n",
              "      <td>98107</td>\n",
              "      <td>950000.0</td>\n",
              "    </tr>\n",
              "    <tr>\n",
              "      <th>3</th>\n",
              "      <td>4</td>\n",
              "      <td>3.0</td>\n",
              "      <td>3800.0</td>\n",
              "      <td>5175.0</td>\n",
              "      <td>98199</td>\n",
              "      <td>1950000.0</td>\n",
              "    </tr>\n",
              "    <tr>\n",
              "      <th>5</th>\n",
              "      <td>2</td>\n",
              "      <td>2.0</td>\n",
              "      <td>1190.0</td>\n",
              "      <td>43560.0</td>\n",
              "      <td>98107</td>\n",
              "      <td>740000.0</td>\n",
              "    </tr>\n",
              "    <tr>\n",
              "      <th>...</th>\n",
              "      <td>...</td>\n",
              "      <td>...</td>\n",
              "      <td>...</td>\n",
              "      <td>...</td>\n",
              "      <td>...</td>\n",
              "      <td>...</td>\n",
              "    </tr>\n",
              "    <tr>\n",
              "      <th>2009</th>\n",
              "      <td>3</td>\n",
              "      <td>3.5</td>\n",
              "      <td>1680.0</td>\n",
              "      <td>1486.0</td>\n",
              "      <td>98126</td>\n",
              "      <td>675000.0</td>\n",
              "    </tr>\n",
              "    <tr>\n",
              "      <th>2010</th>\n",
              "      <td>2</td>\n",
              "      <td>2.0</td>\n",
              "      <td>1400.0</td>\n",
              "      <td>14810.4</td>\n",
              "      <td>98199</td>\n",
              "      <td>699950.0</td>\n",
              "    </tr>\n",
              "    <tr>\n",
              "      <th>2011</th>\n",
              "      <td>3</td>\n",
              "      <td>2.0</td>\n",
              "      <td>1370.0</td>\n",
              "      <td>21780.0</td>\n",
              "      <td>98112</td>\n",
              "      <td>910000.0</td>\n",
              "    </tr>\n",
              "    <tr>\n",
              "      <th>2013</th>\n",
              "      <td>4</td>\n",
              "      <td>2.0</td>\n",
              "      <td>2140.0</td>\n",
              "      <td>6250.0</td>\n",
              "      <td>98199</td>\n",
              "      <td>1150000.0</td>\n",
              "    </tr>\n",
              "    <tr>\n",
              "      <th>2015</th>\n",
              "      <td>3</td>\n",
              "      <td>2.0</td>\n",
              "      <td>1710.0</td>\n",
              "      <td>4267.0</td>\n",
              "      <td>98133</td>\n",
              "      <td>659000.0</td>\n",
              "    </tr>\n",
              "  </tbody>\n",
              "</table>\n",
              "<p>1669 rows × 6 columns</p>\n",
              "</div>\n",
              "    <div class=\"colab-df-buttons\">\n",
              "\n",
              "  <div class=\"colab-df-container\">\n",
              "    <button class=\"colab-df-convert\" onclick=\"convertToInteractive('df-427ac128-b637-4845-9c60-5569622b899a')\"\n",
              "            title=\"Convert this dataframe to an interactive table.\"\n",
              "            style=\"display:none;\">\n",
              "\n",
              "  <svg xmlns=\"http://www.w3.org/2000/svg\" height=\"24px\" viewBox=\"0 -960 960 960\">\n",
              "    <path d=\"M120-120v-720h720v720H120Zm60-500h600v-160H180v160Zm220 220h160v-160H400v160Zm0 220h160v-160H400v160ZM180-400h160v-160H180v160Zm440 0h160v-160H620v160ZM180-180h160v-160H180v160Zm440 0h160v-160H620v160Z\"/>\n",
              "  </svg>\n",
              "    </button>\n",
              "\n",
              "  <style>\n",
              "    .colab-df-container {\n",
              "      display:flex;\n",
              "      gap: 12px;\n",
              "    }\n",
              "\n",
              "    .colab-df-convert {\n",
              "      background-color: #E8F0FE;\n",
              "      border: none;\n",
              "      border-radius: 50%;\n",
              "      cursor: pointer;\n",
              "      display: none;\n",
              "      fill: #1967D2;\n",
              "      height: 32px;\n",
              "      padding: 0 0 0 0;\n",
              "      width: 32px;\n",
              "    }\n",
              "\n",
              "    .colab-df-convert:hover {\n",
              "      background-color: #E2EBFA;\n",
              "      box-shadow: 0px 1px 2px rgba(60, 64, 67, 0.3), 0px 1px 3px 1px rgba(60, 64, 67, 0.15);\n",
              "      fill: #174EA6;\n",
              "    }\n",
              "\n",
              "    .colab-df-buttons div {\n",
              "      margin-bottom: 4px;\n",
              "    }\n",
              "\n",
              "    [theme=dark] .colab-df-convert {\n",
              "      background-color: #3B4455;\n",
              "      fill: #D2E3FC;\n",
              "    }\n",
              "\n",
              "    [theme=dark] .colab-df-convert:hover {\n",
              "      background-color: #434B5C;\n",
              "      box-shadow: 0px 1px 3px 1px rgba(0, 0, 0, 0.15);\n",
              "      filter: drop-shadow(0px 1px 2px rgba(0, 0, 0, 0.3));\n",
              "      fill: #FFFFFF;\n",
              "    }\n",
              "  </style>\n",
              "\n",
              "    <script>\n",
              "      const buttonEl =\n",
              "        document.querySelector('#df-427ac128-b637-4845-9c60-5569622b899a button.colab-df-convert');\n",
              "      buttonEl.style.display =\n",
              "        google.colab.kernel.accessAllowed ? 'block' : 'none';\n",
              "\n",
              "      async function convertToInteractive(key) {\n",
              "        const element = document.querySelector('#df-427ac128-b637-4845-9c60-5569622b899a');\n",
              "        const dataTable =\n",
              "          await google.colab.kernel.invokeFunction('convertToInteractive',\n",
              "                                                    [key], {});\n",
              "        if (!dataTable) return;\n",
              "\n",
              "        const docLinkHtml = 'Like what you see? Visit the ' +\n",
              "          '<a target=\"_blank\" href=https://colab.research.google.com/notebooks/data_table.ipynb>data table notebook</a>'\n",
              "          + ' to learn more about interactive tables.';\n",
              "        element.innerHTML = '';\n",
              "        dataTable['output_type'] = 'display_data';\n",
              "        await google.colab.output.renderOutput(dataTable, element);\n",
              "        const docLink = document.createElement('div');\n",
              "        docLink.innerHTML = docLinkHtml;\n",
              "        element.appendChild(docLink);\n",
              "      }\n",
              "    </script>\n",
              "  </div>\n",
              "\n",
              "\n",
              "<div id=\"df-4298fd09-7452-4977-8561-be82eb4bb09e\">\n",
              "  <button class=\"colab-df-quickchart\" onclick=\"quickchart('df-4298fd09-7452-4977-8561-be82eb4bb09e')\"\n",
              "            title=\"Suggest charts\"\n",
              "            style=\"display:none;\">\n",
              "\n",
              "<svg xmlns=\"http://www.w3.org/2000/svg\" height=\"24px\"viewBox=\"0 0 24 24\"\n",
              "     width=\"24px\">\n",
              "    <g>\n",
              "        <path d=\"M19 3H5c-1.1 0-2 .9-2 2v14c0 1.1.9 2 2 2h14c1.1 0 2-.9 2-2V5c0-1.1-.9-2-2-2zM9 17H7v-7h2v7zm4 0h-2V7h2v10zm4 0h-2v-4h2v4z\"/>\n",
              "    </g>\n",
              "</svg>\n",
              "  </button>\n",
              "\n",
              "<style>\n",
              "  .colab-df-quickchart {\n",
              "      --bg-color: #E8F0FE;\n",
              "      --fill-color: #1967D2;\n",
              "      --hover-bg-color: #E2EBFA;\n",
              "      --hover-fill-color: #174EA6;\n",
              "      --disabled-fill-color: #AAA;\n",
              "      --disabled-bg-color: #DDD;\n",
              "  }\n",
              "\n",
              "  [theme=dark] .colab-df-quickchart {\n",
              "      --bg-color: #3B4455;\n",
              "      --fill-color: #D2E3FC;\n",
              "      --hover-bg-color: #434B5C;\n",
              "      --hover-fill-color: #FFFFFF;\n",
              "      --disabled-bg-color: #3B4455;\n",
              "      --disabled-fill-color: #666;\n",
              "  }\n",
              "\n",
              "  .colab-df-quickchart {\n",
              "    background-color: var(--bg-color);\n",
              "    border: none;\n",
              "    border-radius: 50%;\n",
              "    cursor: pointer;\n",
              "    display: none;\n",
              "    fill: var(--fill-color);\n",
              "    height: 32px;\n",
              "    padding: 0;\n",
              "    width: 32px;\n",
              "  }\n",
              "\n",
              "  .colab-df-quickchart:hover {\n",
              "    background-color: var(--hover-bg-color);\n",
              "    box-shadow: 0 1px 2px rgba(60, 64, 67, 0.3), 0 1px 3px 1px rgba(60, 64, 67, 0.15);\n",
              "    fill: var(--button-hover-fill-color);\n",
              "  }\n",
              "\n",
              "  .colab-df-quickchart-complete:disabled,\n",
              "  .colab-df-quickchart-complete:disabled:hover {\n",
              "    background-color: var(--disabled-bg-color);\n",
              "    fill: var(--disabled-fill-color);\n",
              "    box-shadow: none;\n",
              "  }\n",
              "\n",
              "  .colab-df-spinner {\n",
              "    border: 2px solid var(--fill-color);\n",
              "    border-color: transparent;\n",
              "    border-bottom-color: var(--fill-color);\n",
              "    animation:\n",
              "      spin 1s steps(1) infinite;\n",
              "  }\n",
              "\n",
              "  @keyframes spin {\n",
              "    0% {\n",
              "      border-color: transparent;\n",
              "      border-bottom-color: var(--fill-color);\n",
              "      border-left-color: var(--fill-color);\n",
              "    }\n",
              "    20% {\n",
              "      border-color: transparent;\n",
              "      border-left-color: var(--fill-color);\n",
              "      border-top-color: var(--fill-color);\n",
              "    }\n",
              "    30% {\n",
              "      border-color: transparent;\n",
              "      border-left-color: var(--fill-color);\n",
              "      border-top-color: var(--fill-color);\n",
              "      border-right-color: var(--fill-color);\n",
              "    }\n",
              "    40% {\n",
              "      border-color: transparent;\n",
              "      border-right-color: var(--fill-color);\n",
              "      border-top-color: var(--fill-color);\n",
              "    }\n",
              "    60% {\n",
              "      border-color: transparent;\n",
              "      border-right-color: var(--fill-color);\n",
              "    }\n",
              "    80% {\n",
              "      border-color: transparent;\n",
              "      border-right-color: var(--fill-color);\n",
              "      border-bottom-color: var(--fill-color);\n",
              "    }\n",
              "    90% {\n",
              "      border-color: transparent;\n",
              "      border-bottom-color: var(--fill-color);\n",
              "    }\n",
              "  }\n",
              "</style>\n",
              "\n",
              "  <script>\n",
              "    async function quickchart(key) {\n",
              "      const quickchartButtonEl =\n",
              "        document.querySelector('#' + key + ' button');\n",
              "      quickchartButtonEl.disabled = true;  // To prevent multiple clicks.\n",
              "      quickchartButtonEl.classList.add('colab-df-spinner');\n",
              "      try {\n",
              "        const charts = await google.colab.kernel.invokeFunction(\n",
              "            'suggestCharts', [key], {});\n",
              "      } catch (error) {\n",
              "        console.error('Error during call to suggestCharts:', error);\n",
              "      }\n",
              "      quickchartButtonEl.classList.remove('colab-df-spinner');\n",
              "      quickchartButtonEl.classList.add('colab-df-quickchart-complete');\n",
              "    }\n",
              "    (() => {\n",
              "      let quickchartButtonEl =\n",
              "        document.querySelector('#df-4298fd09-7452-4977-8561-be82eb4bb09e button');\n",
              "      quickchartButtonEl.style.display =\n",
              "        google.colab.kernel.accessAllowed ? 'block' : 'none';\n",
              "    })();\n",
              "  </script>\n",
              "</div>\n",
              "\n",
              "  <div id=\"id_6cc9adc1-99a7-46e7-acfe-5b6b2b52cc23\">\n",
              "    <style>\n",
              "      .colab-df-generate {\n",
              "        background-color: #E8F0FE;\n",
              "        border: none;\n",
              "        border-radius: 50%;\n",
              "        cursor: pointer;\n",
              "        display: none;\n",
              "        fill: #1967D2;\n",
              "        height: 32px;\n",
              "        padding: 0 0 0 0;\n",
              "        width: 32px;\n",
              "      }\n",
              "\n",
              "      .colab-df-generate:hover {\n",
              "        background-color: #E2EBFA;\n",
              "        box-shadow: 0px 1px 2px rgba(60, 64, 67, 0.3), 0px 1px 3px 1px rgba(60, 64, 67, 0.15);\n",
              "        fill: #174EA6;\n",
              "      }\n",
              "\n",
              "      [theme=dark] .colab-df-generate {\n",
              "        background-color: #3B4455;\n",
              "        fill: #D2E3FC;\n",
              "      }\n",
              "\n",
              "      [theme=dark] .colab-df-generate:hover {\n",
              "        background-color: #434B5C;\n",
              "        box-shadow: 0px 1px 3px 1px rgba(0, 0, 0, 0.15);\n",
              "        filter: drop-shadow(0px 1px 2px rgba(0, 0, 0, 0.3));\n",
              "        fill: #FFFFFF;\n",
              "      }\n",
              "    </style>\n",
              "    <button class=\"colab-df-generate\" onclick=\"generateWithVariable('df_cleaned')\"\n",
              "            title=\"Generate code using this dataframe.\"\n",
              "            style=\"display:none;\">\n",
              "\n",
              "  <svg xmlns=\"http://www.w3.org/2000/svg\" height=\"24px\"viewBox=\"0 0 24 24\"\n",
              "       width=\"24px\">\n",
              "    <path d=\"M7,19H8.4L18.45,9,17,7.55,7,17.6ZM5,21V16.75L18.45,3.32a2,2,0,0,1,2.83,0l1.4,1.43a1.91,1.91,0,0,1,.58,1.4,1.91,1.91,0,0,1-.58,1.4L9.25,21ZM18.45,9,17,7.55Zm-12,3A5.31,5.31,0,0,0,4.9,8.1,5.31,5.31,0,0,0,1,6.5,5.31,5.31,0,0,0,4.9,4.9,5.31,5.31,0,0,0,6.5,1,5.31,5.31,0,0,0,8.1,4.9,5.31,5.31,0,0,0,12,6.5,5.46,5.46,0,0,0,6.5,12Z\"/>\n",
              "  </svg>\n",
              "    </button>\n",
              "    <script>\n",
              "      (() => {\n",
              "      const buttonEl =\n",
              "        document.querySelector('#id_6cc9adc1-99a7-46e7-acfe-5b6b2b52cc23 button.colab-df-generate');\n",
              "      buttonEl.style.display =\n",
              "        google.colab.kernel.accessAllowed ? 'block' : 'none';\n",
              "\n",
              "      buttonEl.onclick = () => {\n",
              "        google.colab.notebook.generateWithVariable('df_cleaned');\n",
              "      }\n",
              "      })();\n",
              "    </script>\n",
              "  </div>\n",
              "\n",
              "    </div>\n",
              "  </div>\n"
            ],
            "application/vnd.google.colaboratory.intrinsic+json": {
              "type": "dataframe",
              "variable_name": "df_cleaned",
              "summary": "{\n  \"name\": \"df_cleaned\",\n  \"rows\": 1669,\n  \"fields\": [\n    {\n      \"column\": \"beds\",\n      \"properties\": {\n        \"dtype\": \"number\",\n        \"std\": 1,\n        \"min\": 1,\n        \"max\": 15,\n        \"num_unique_values\": 11,\n        \"samples\": [\n          6,\n          3,\n          8\n        ],\n        \"semantic_type\": \"\",\n        \"description\": \"\"\n      }\n    },\n    {\n      \"column\": \"baths\",\n      \"properties\": {\n        \"dtype\": \"number\",\n        \"std\": 1.0086583459585476,\n        \"min\": 0.5,\n        \"max\": 9.0,\n        \"num_unique_values\": 16,\n        \"samples\": [\n          2.5,\n          2.0,\n          1.5\n        ],\n        \"semantic_type\": \"\",\n        \"description\": \"\"\n      }\n    },\n    {\n      \"column\": \"size\",\n      \"properties\": {\n        \"dtype\": \"number\",\n        \"std\": 916.9527795522436,\n        \"min\": 250.0,\n        \"max\": 11010.0,\n        \"num_unique_values\": 698,\n        \"samples\": [\n          1460.0,\n          540.0,\n          1228.0\n        ],\n        \"semantic_type\": \"\",\n        \"description\": \"\"\n      }\n    },\n    {\n      \"column\": \"lot_size\",\n      \"properties\": {\n        \"dtype\": \"number\",\n        \"std\": 288068.2249365366,\n        \"min\": 500.0,\n        \"max\": 10890000.0,\n        \"num_unique_values\": 959,\n        \"samples\": [\n          5118.0,\n          4920.0,\n          8750.0\n        ],\n        \"semantic_type\": \"\",\n        \"description\": \"\"\n      }\n    },\n    {\n      \"column\": \"zip_code\",\n      \"properties\": {\n        \"dtype\": \"number\",\n        \"std\": 23,\n        \"min\": 98101,\n        \"max\": 98199,\n        \"num_unique_values\": 27,\n        \"samples\": [\n          98103,\n          98116,\n          98177\n        ],\n        \"semantic_type\": \"\",\n        \"description\": \"\"\n      }\n    },\n    {\n      \"column\": \"price\",\n      \"properties\": {\n        \"dtype\": \"number\",\n        \"std\": 1007943.8403729819,\n        \"min\": 159000.0,\n        \"max\": 25000000.0,\n        \"num_unique_values\": 672,\n        \"samples\": [\n          1130000.0,\n          852500.0,\n          1835000.0\n        ],\n        \"semantic_type\": \"\",\n        \"description\": \"\"\n      }\n    }\n  ]\n}"
            }
          },
          "metadata": {},
          "execution_count": 50
        }
      ]
    },
    {
      "cell_type": "code",
      "source": [
        "\n",
        "X = df_cleaned.iloc[:, :-1].values\n",
        "y = df_cleaned.iloc[:, -1].values"
      ],
      "metadata": {
        "id": "o9fQXMFt-wQs"
      },
      "execution_count": 51,
      "outputs": []
    },
    {
      "cell_type": "code",
      "source": [
        "X"
      ],
      "metadata": {
        "colab": {
          "base_uri": "https://localhost:8080/"
        },
        "id": "4Tng5asR-9z8",
        "outputId": "af945f86-69d9-434c-9e76-5bcf58593390"
      },
      "execution_count": 52,
      "outputs": [
        {
          "output_type": "execute_result",
          "data": {
            "text/plain": [
              "array([[3.00000e+00, 2.50000e+00, 2.59000e+03, 6.00000e+03, 9.81440e+04],\n",
              "       [4.00000e+00, 2.00000e+00, 2.24000e+03, 1.35036e+04, 9.81060e+04],\n",
              "       [4.00000e+00, 3.00000e+00, 2.04000e+03, 3.78300e+03, 9.81070e+04],\n",
              "       ...,\n",
              "       [3.00000e+00, 2.00000e+00, 1.37000e+03, 2.17800e+04, 9.81120e+04],\n",
              "       [4.00000e+00, 2.00000e+00, 2.14000e+03, 6.25000e+03, 9.81990e+04],\n",
              "       [3.00000e+00, 2.00000e+00, 1.71000e+03, 4.26700e+03, 9.81330e+04]])"
            ]
          },
          "metadata": {},
          "execution_count": 52
        }
      ]
    },
    {
      "cell_type": "code",
      "source": [
        "y"
      ],
      "metadata": {
        "colab": {
          "base_uri": "https://localhost:8080/"
        },
        "id": "LRrxYPyy_DdZ",
        "outputId": "13cc63ca-b7d3-473e-aa09-8481eb0eb200"
      },
      "execution_count": 53,
      "outputs": [
        {
          "output_type": "execute_result",
          "data": {
            "text/plain": [
              "array([ 795000.,  915000.,  950000., ...,  910000., 1150000.,  659000.])"
            ]
          },
          "metadata": {},
          "execution_count": 53
        }
      ]
    },
    {
      "cell_type": "code",
      "source": [
        "from sklearn.compose import ColumnTransformer\n",
        "from sklearn.preprocessing import OneHotEncoder\n",
        "ct = ColumnTransformer(transformers=[('encoder', OneHotEncoder(), [4])], remainder='passthrough')\n",
        "X = ct.fit_transform(X).toarray()"
      ],
      "metadata": {
        "id": "PXsak6iM_Euj"
      },
      "execution_count": 54,
      "outputs": []
    },
    {
      "cell_type": "code",
      "source": [
        "from sklearn.model_selection import train_test_split\n",
        "X_train, X_test, y_train, y_test = train_test_split(X, y, test_size = 0.2, random_state = 42)"
      ],
      "metadata": {
        "id": "QJMufAVH_Zcc"
      },
      "execution_count": 55,
      "outputs": []
    },
    {
      "cell_type": "code",
      "source": [
        "print(y_train)"
      ],
      "metadata": {
        "colab": {
          "base_uri": "https://localhost:8080/"
        },
        "id": "Oo4bTh8nAe2i",
        "outputId": "88143480-bcac-4a13-a939-472cd5ea4c74"
      },
      "execution_count": 56,
      "outputs": [
        {
          "output_type": "stream",
          "name": "stdout",
          "text": [
            "[ 615000.  990200. 2458000. ...  699900.  875000.  850000.]\n"
          ]
        }
      ]
    },
    {
      "cell_type": "code",
      "source": [
        "print(X_train)"
      ],
      "metadata": {
        "colab": {
          "base_uri": "https://localhost:8080/"
        },
        "id": "FqGc74kaAiBl",
        "outputId": "68294f8a-21de-4138-d59f-5db86c12bd0e"
      },
      "execution_count": 57,
      "outputs": [
        {
          "output_type": "stream",
          "name": "stdout",
          "text": [
            "[[0.00000e+00 0.00000e+00 0.00000e+00 ... 2.50000e+00 1.01000e+03\n",
            "  5.70000e+02]\n",
            " [0.00000e+00 0.00000e+00 0.00000e+00 ... 2.00000e+00 2.13000e+03\n",
            "  4.85000e+03]\n",
            " [1.00000e+00 0.00000e+00 0.00000e+00 ... 3.00000e+00 1.82400e+03\n",
            "  1.61172e+04]\n",
            " ...\n",
            " [0.00000e+00 0.00000e+00 0.00000e+00 ... 2.50000e+00 1.60000e+03\n",
            "  6.95000e+02]\n",
            " [0.00000e+00 0.00000e+00 0.00000e+00 ... 2.50000e+00 2.60000e+03\n",
            "  9.10000e+03]\n",
            " [0.00000e+00 0.00000e+00 0.00000e+00 ... 2.00000e+00 9.95000e+02\n",
            "  5.00000e+03]]\n"
          ]
        }
      ]
    },
    {
      "cell_type": "code",
      "source": [
        "from sklearn.preprocessing import StandardScaler\n",
        "sc = StandardScaler()\n",
        "X_train = sc.fit_transform(X_train)\n",
        "X_test = sc.transform(X_test)"
      ],
      "metadata": {
        "id": "AVlTHgAUAlt8"
      },
      "execution_count": 58,
      "outputs": []
    },
    {
      "cell_type": "code",
      "source": [
        "print(y_train)"
      ],
      "metadata": {
        "colab": {
          "base_uri": "https://localhost:8080/"
        },
        "id": "R8Fyw1ZGAswS",
        "outputId": "1ecf4a51-4ef0-4e17-be12-a72b9e190e50"
      },
      "execution_count": 59,
      "outputs": [
        {
          "output_type": "stream",
          "name": "stdout",
          "text": [
            "[ 615000.  990200. 2458000. ...  699900.  875000.  850000.]\n"
          ]
        }
      ]
    },
    {
      "cell_type": "code",
      "source": [
        "print(X_train)"
      ],
      "metadata": {
        "colab": {
          "base_uri": "https://localhost:8080/"
        },
        "id": "aMnznPw3Avo0",
        "outputId": "25399ee8-6f7c-403a-c65f-5e02cf1d5782"
      },
      "execution_count": 60,
      "outputs": [
        {
          "output_type": "stream",
          "name": "stdout",
          "text": [
            "[[-4.74578998e-02 -1.35302018e-01 -3.12828774e-01 ...  2.33920129e-01\n",
            "  -9.79047985e-01 -6.21889347e-02]\n",
            " [-4.74578998e-02 -1.35302018e-01 -3.12828774e-01 ... -2.68143170e-01\n",
            "   2.88015407e-01 -4.88792566e-02]\n",
            " [ 2.10713075e+01 -1.35302018e-01 -3.12828774e-01 ...  7.35983427e-01\n",
            "  -5.81644128e-02 -1.38412182e-02]\n",
            " ...\n",
            " [-4.74578998e-02 -1.35302018e-01 -3.12828774e-01 ...  2.33920129e-01\n",
            "  -3.11577091e-01 -6.18002174e-02]\n",
            " [-4.74578998e-02 -1.35302018e-01 -3.12828774e-01 ...  2.33920129e-01\n",
            "   8.19729509e-01 -3.56628707e-02]\n",
            " [-4.74578998e-02 -1.35302018e-01 -3.12828774e-01 ... -2.68143170e-01\n",
            "  -9.96017584e-01 -4.84127959e-02]]\n"
          ]
        }
      ]
    },
    {
      "cell_type": "code",
      "source": [
        "from sklearn.preprocessing import PolynomialFeatures\n",
        "from sklearn.linear_model import LinearRegression\n",
        "from sklearn.metrics import r2_score, mean_squared_error\n",
        "degree = 1  # Change this to try different degrees\n",
        "\n",
        "# Generate polynomial features\n",
        "poly = PolynomialFeatures(degree=degree)\n",
        "X_train_poly = poly.fit_transform(X_train)\n",
        "X_test_poly = poly.transform(X_test)\n",
        "\n",
        "# Train Linear Regression model\n",
        "model = LinearRegression()\n",
        "model.fit(X_train_poly, y_train)\n",
        "\n",
        "# Predict on test data\n",
        "y_pred_poly = model.predict(X_test_poly)\n",
        "\n",
        "# Evaluate model\n",
        "r2 = r2_score(y_test, y_pred_poly)\n",
        "mse = mean_squared_error(y_test, y_pred_poly)\n",
        "\n",
        "# Print results\n",
        "print(f\"Polynomial Degree: {degree}\")\n",
        "print(f\"R² Score: {r2:.4f}\")\n",
        "print(f\"Mean Squared Error: {mse:.2f}\")\n",
        "\n",
        "# Plot actual vs predicted values\n",
        "plt.figure(figsize=(8, 6))\n",
        "plt.scatter(y_test, y_pred_poly, color='blue', alpha=0.5, label='Predicted vs Actual')\n",
        "plt.plot([min(y_test), max(y_test)], [min(y_test), max(y_test)], color='red', linestyle='--', label='Perfect Fit (y=x)')\n",
        "plt.xlabel('Actual Prices')\n",
        "plt.ylabel('Predicted Prices')\n",
        "plt.title(f'Actual vs Predicted Prices (Polynomial Degree {degree})')\n",
        "plt.legend()\n",
        "plt.grid(True)\n",
        "plt.show()\n"
      ],
      "metadata": {
        "colab": {
          "base_uri": "https://localhost:8080/",
          "height": 608
        },
        "id": "orKUSimCAx7l",
        "outputId": "24fe6d58-1aa4-40de-a04e-e0e7cd83806e"
      },
      "execution_count": 64,
      "outputs": [
        {
          "output_type": "stream",
          "name": "stdout",
          "text": [
            "Polynomial Degree: 1\n",
            "R² Score: 0.4815\n",
            "Mean Squared Error: 189247563581.05\n"
          ]
        },
        {
          "output_type": "display_data",
          "data": {
            "text/plain": [
              "<Figure size 800x600 with 1 Axes>"
            ],
            "image/png": "[encoded data removed]"
          },
          "metadata": {}
        }
      ]
    }
  ]
}