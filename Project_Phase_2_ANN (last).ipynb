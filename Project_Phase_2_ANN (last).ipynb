{
  "nbformat": 4,
  "nbformat_minor": 0,
  "metadata": {
    "colab": {
      "provenance": []
    },
    "kernelspec": {
      "name": "python3",
      "display_name": "Python 3"
    },
    "language_info": {
      "name": "python"
    }
  },
  "cells": [
    {
      "cell_type": "code",
      "source": [
        "# Step 1: Imports\n",
        "import pandas as pd\n",
        "import numpy as np\n",
        "import torch\n",
        "import torch.nn as nn\n",
        "import torch.optim as optim\n",
        "from sklearn.datasets import fetch_california_housing\n",
        "from sklearn.model_selection import KFold\n",
        "from sklearn.metrics import mean_squared_error, r2_score\n",
        "from sklearn.preprocessing import StandardScaler\n",
        "from torch.utils.data import TensorDataset, DataLoader\n"
      ],
      "metadata": {
        "id": "9mlXvGxR6vDC"
      },
      "execution_count": 22,
      "outputs": []
    },
    {
      "cell_type": "code",
      "source": [
        "# Step 2: Load and Save California Housing dataset\n",
        "california = fetch_california_housing()\n",
        "X = california.data\n",
        "y = california.target\n",
        "\n",
        "# Save to CSV for reference (optional)\n",
        "df = pd.DataFrame(X, columns=california.feature_names)\n",
        "df[\"MedHouseVal\"] = y\n",
        "df.to_csv(\"california_housing.csv\", index=False)\n",
        "print(\" Saved dataset to california_housing.csv\")\n"
      ],
      "metadata": {
        "colab": {
          "base_uri": "https://localhost:8080/"
        },
        "id": "0f6YSrnL6vW7",
        "outputId": "02b60d65-cac5-4c9f-8acd-2810cb5d35d5"
      },
      "execution_count": 23,
      "outputs": [
        {
          "output_type": "stream",
          "name": "stdout",
          "text": [
            " Saved dataset to california_housing.csv\n"
          ]
        }
      ]
    },
    {
      "cell_type": "code",
      "source": [
        "# Step 3: Preprocess\n",
        "scaler = StandardScaler()\n",
        "X_scaled = scaler.fit_transform(X)\n",
        "\n",
        "# Convert to PyTorch tensors\n",
        "X_tensor = torch.tensor(X_scaled, dtype=torch.float32)\n",
        "y_tensor = torch.tensor(y.reshape(-1, 1), dtype=torch.float32)\n"
      ],
      "metadata": {
        "id": "YI9_OeBc7Eg9"
      },
      "execution_count": 24,
      "outputs": []
    },
    {
      "cell_type": "code",
      "source": [
        "# Step 4: Define ANN Model\n",
        "class HousingANN(nn.Module):\n",
        "    def __init__(self, input_dim):\n",
        "        super(HousingANN, self).__init__()\n",
        "        self.model = nn.Sequential(\n",
        "            nn.Linear(input_dim, 128),\n",
        "            nn.ReLU(),\n",
        "            nn.Linear(128, 64),\n",
        "            nn.ReLU(),\n",
        "            nn.Linear(64, 1)\n",
        "        )\n",
        "\n",
        "    def forward(self, x):\n",
        "        return self.model(x)\n"
      ],
      "metadata": {
        "id": "sg2k6k1y7GUZ"
      },
      "execution_count": 25,
      "outputs": []
    },
    {
      "cell_type": "code",
      "source": [
        "# Step 5: 5-Fold Cross-Validation\n",
        "kf = KFold(n_splits=5, shuffle=True, random_state=42)\n",
        "mse_scores, r2_scores = [], []\n",
        "\n",
        "for fold, (train_idx, val_idx) in enumerate(kf.split(X_tensor)):\n",
        "    print(f\"\\nFold {fold+1}\")\n",
        "\n",
        "    X_train, X_val = X_tensor[train_idx], X_tensor[val_idx]\n",
        "    y_train, y_val = y_tensor[train_idx], y_tensor[val_idx]\n",
        "\n",
        "    train_dataset = TensorDataset(X_train, y_train)\n",
        "    train_loader = DataLoader(train_dataset, batch_size=64, shuffle=True)\n",
        "\n",
        "    model = HousingANN(X_tensor.shape[1])\n",
        "    criterion = nn.MSELoss()\n",
        "    optimizer = optim.Adam(model.parameters(), lr=0.001)\n",
        "\n",
        "    # Training\n",
        "    for epoch in range(150):\n",
        "        model.train()\n",
        "        for batch_X, batch_y in train_loader:\n",
        "            optimizer.zero_grad()\n",
        "            predictions = model(batch_X)\n",
        "            loss = criterion(predictions, batch_y)\n",
        "            loss.backward()\n",
        "            optimizer.step()\n",
        "\n",
        "    # Evaluation\n",
        "    model.eval()\n",
        "    with torch.no_grad():\n",
        "        y_pred = model(X_val).numpy()\n",
        "        y_true = y_val.numpy()\n",
        "\n",
        "        mse = mean_squared_error(y_true, y_pred)\n",
        "        r2 = r2_score(y_true, y_pred)\n",
        "\n",
        "        mse_scores.append(mse)\n",
        "        r2_scores.append(r2)\n",
        "\n",
        "        print(f\"Fold {fold+1} - MSE: {mse:.4f}, R²: {r2:.4f}\")\n"
      ],
      "metadata": {
        "colab": {
          "base_uri": "https://localhost:8080/"
        },
        "id": "3_BraMbr7YGt",
        "outputId": "6cd3130e-eb6f-48e5-f4d4-04647aeefcb6"
      },
      "execution_count": 26,
      "outputs": [
        {
          "output_type": "stream",
          "name": "stdout",
          "text": [
            "\n",
            "Fold 1\n",
            "Fold 1 - MSE: 0.2634, R²: 0.7990\n",
            "\n",
            "Fold 2\n",
            "Fold 2 - MSE: 0.2651, R²: 0.8060\n",
            "\n",
            "Fold 3\n",
            "Fold 3 - MSE: 0.2744, R²: 0.7891\n",
            "\n",
            "Fold 4\n",
            "Fold 4 - MSE: 0.2421, R²: 0.8184\n",
            "\n",
            "Fold 5\n",
            "Fold 5 - MSE: 0.2740, R²: 0.7964\n"
          ]
        }
      ]
    },
    {
      "cell_type": "code",
      "source": [
        "# Step 6: Summary\n",
        "print(\"\\n===== Cross-Validation Results =====\")\n",
        "print(f\"Average MSE: {np.mean(mse_scores):.4f}\")\n",
        "print(f\"Average R² Score: {np.mean(r2_scores):.4f}\")\n"
      ],
      "metadata": {
        "colab": {
          "base_uri": "https://localhost:8080/"
        },
        "id": "uA5vzw2T7cPF",
        "outputId": "0a22e5cc-983d-4d4f-8c14-aad43b44c314"
      },
      "execution_count": 27,
      "outputs": [
        {
          "output_type": "stream",
          "name": "stdout",
          "text": [
            "\n",
            "===== Cross-Validation Results =====\n",
            "Average MSE: 0.2638\n",
            "Average R² Score: 0.8018\n"
          ]
        }
      ]
    }
  ]
}